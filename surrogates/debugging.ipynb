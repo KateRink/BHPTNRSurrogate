{
 "cells": [
  {
   "cell_type": "code",
   "execution_count": 1,
   "id": "8b0dc8a5-0aba-455c-9569-f164ca5d931b",
   "metadata": {},
   "outputs": [
    {
     "name": "stdout",
     "output_type": "stream",
     "text": [
      "cannot import LAL\n",
      "SURROGATE LOADED\n",
      "WARNING : modes are NOT NR calibrated - waveforms only have 0PA contribution\n"
     ]
    }
   ],
   "source": [
    "# provide the path to the BHPTNRSurrogate directory\n",
    "PATH_TO_BHPTNRSur = \"/home/krink_umassd_edu/BHPTNRSurrogate\"\n",
    "import numpy as np\n",
    "import matplotlib.pyplot as plt\n",
    "import sys\n",
    "# add the path to the script directory\n",
    "sys.path.append(PATH_TO_BHPTNRSur+\"/surrogates\")\n",
    "sys.path.append(\"/home/krink_umassd_edu/anaconda3/lib/python3.9/site-packages\") # for gwtools\n",
    "import BHPTNRSur2dq1e3 as sur2d\n",
    "import BHPTNRSur1dq1e4 as sur1d"
   ]
  },
  {
   "cell_type": "code",
   "execution_count": 2,
   "id": "e417aec7-7ad4-47cf-9b1a-5e7442bfdb3e",
   "metadata": {},
   "outputs": [
    {
     "name": "stdout",
     "output_type": "stream",
     "text": [
      "WARNING : modes are NOT NR calibrated - waveforms only have 0PA contribution\n"
     ]
    }
   ],
   "source": [
    "tsur2, hsur2 = sur2d.generate_surrogate(q=20.0, spin1=0.2, calibrated=False)"
   ]
  },
  {
   "cell_type": "code",
   "execution_count": 3,
   "id": "322c43e3-da6a-4d5d-80cd-335be37a719e",
   "metadata": {},
   "outputs": [
    {
     "name": "stdout",
     "output_type": "stream",
     "text": [
      "WARNING : modes are NOT NR calibrated - waveforms only have 0PA contribution\n"
     ]
    }
   ],
   "source": [
    "tsur1, hsur1 = sur1d.generate_surrogate(q=20.0, calibrated=False)"
   ]
  },
  {
   "cell_type": "code",
   "execution_count": 4,
   "id": "17f8a732-45c7-41ba-832f-341e487b4fb9",
   "metadata": {},
   "outputs": [
    {
     "name": "stdout",
     "output_type": "stream",
     "text": [
      "tsur2 =  <class 'numpy.ndarray'>\n",
      "tsur1 =  <class 'numpy.ndarray'>\n",
      "\n",
      "hsur2 =  <class 'dict'>\n",
      "hsur1 =  <class 'dict'>\n"
     ]
    }
   ],
   "source": [
    "print(\"tsur2 = \", type(tsur2))\n",
    "print(\"tsur1 = \", type(tsur1))\n",
    "\n",
    "print(\"\\nhsur2 = \", type(hsur2))\n",
    "print(\"hsur1 = \", type(hsur1))"
   ]
  },
  {
   "cell_type": "code",
   "execution_count": 5,
   "id": "4a94b4f4-6d79-4c34-b1bb-78c5ff0eecaf",
   "metadata": {},
   "outputs": [],
   "source": [
    "import h5py\n",
    "import hashlib\n",
    "from gwtools import gwtools as _gwtools\n",
    "import os\n",
    "from os import path\n",
    "import subprocess\n",
    "\n",
    "import model_utils.load_surrogates as load\n",
    "import model_utils.eval_surrogates as eval_sur\n",
    "from common_utils import utils, fits\n",
    "import common_utils.nr_calibration as nrcalib\n",
    "import common_utils.doc_string as docs"
   ]
  },
  {
   "cell_type": "code",
   "execution_count": 6,
   "id": "ea199ea8-98de-4931-b6f9-a813ae8512ed",
   "metadata": {},
   "outputs": [],
   "source": [
    "# h5 data directory\n",
    "file_sur2 = 'BHPTNRSur2dq1e3_TEST_02-08-22.h5'\n",
    "h5_data_dir = os.path.dirname(os.path.abspath(file_sur2)) + '/../data'\n",
    "\n",
    "times, fit_data_dict_1, fit_data_dict_2, B_dict_1, B_dict_2, \\\n",
    "                            alpha_coeffs, beta_coeffs = load.load_BHPTNRSur2dq1e3_surrogate(h5_data_dir)"
   ]
  },
  {
   "cell_type": "code",
   "execution_count": 7,
   "id": "8a639f86-3db8-432c-8d4f-2e4aa310b678",
   "metadata": {},
   "outputs": [],
   "source": [
    "# h5 data directory\n",
    "file_sur1 = 'BHPTNRSur1dq1e4.h5'\n",
    "h5_data_dir_sur1 = os.path.dirname(os.path.abspath(file_sur1)) + '/../data'\n",
    "\n",
    "time_sur1, fit_data_dict_1_sur1, fit_data_dict_2_sur1, B_dict_1_sur1, B_dict_2_sur1, \\\n",
    "                            alpha_coeffs_sur1, beta_coeffs_sur1 = load.load_BHPTNRSur1dq1e4_surrogate(h5_data_dir_sur1)"
   ]
  },
  {
   "cell_type": "code",
   "execution_count": 8,
   "id": "52a56075-8879-474b-bc9f-7afef483d1f5",
   "metadata": {},
   "outputs": [
    {
     "name": "stdout",
     "output_type": "stream",
     "text": [
      "times =  <class 'dict'>\n",
      "times['negative_spin'] =  <class 'numpy.ndarray'>\n",
      "times['positive_spin'] =  <class 'numpy.ndarray'>\n",
      "time_sur1 =  <class 'numpy.ndarray'>\n",
      "\n",
      "fit_data_dict_1 =  <class 'dict'>\n",
      "fit_data_dict_1_sur1 =  <class 'dict'>\n",
      "\n",
      "fit_data_dict_2 =  <class 'dict'>\n",
      "fit_data_dict_2_sur1 =  <class 'dict'>\n",
      "\n",
      "B_dict_1 =  <class 'dict'>\n",
      "B_dict_1_sur1 =  <class 'dict'>\n",
      "\n",
      "B_dict_2 =  <class 'dict'>\n",
      "B_dict_2_sur1 =  <class 'dict'>\n"
     ]
    }
   ],
   "source": [
    "print(\"times = \", type(times))\n",
    "print(\"times['negative_spin'] = \", type(times['negative_spin']))\n",
    "print(\"times['positive_spin'] = \", type(times['positive_spin']))\n",
    "print(\"time_sur1 = \", type(time_sur1))\n",
    "\n",
    "print(\"\\nfit_data_dict_1 = \", type(fit_data_dict_1))\n",
    "print(\"fit_data_dict_1_sur1 = \", type(fit_data_dict_1_sur1))\n",
    "print(\"\\nfit_data_dict_2 = \", type(fit_data_dict_2))\n",
    "print(\"fit_data_dict_2_sur1 = \", type(fit_data_dict_2_sur1))\n",
    "\n",
    "print(\"\\nB_dict_1 = \", type(B_dict_1))\n",
    "print(\"B_dict_1_sur1 = \", type(B_dict_1_sur1))\n",
    "print(\"\\nB_dict_2 = \", type(B_dict_2))\n",
    "print(\"B_dict_2_sur1 = \", type(B_dict_2_sur1))"
   ]
  },
  {
   "cell_type": "code",
   "execution_count": null,
   "id": "db989ec2-3edf-430d-9d32-f9357aa12ded",
   "metadata": {},
   "outputs": [],
   "source": []
  }
 ],
 "metadata": {
  "kernelspec": {
   "display_name": "Python (anaconda3)",
   "language": "python",
   "name": "conda-env-anaconda3-py"
  },
  "language_info": {
   "codemirror_mode": {
    "name": "ipython",
    "version": 3
   },
   "file_extension": ".py",
   "mimetype": "text/x-python",
   "name": "python",
   "nbconvert_exporter": "python",
   "pygments_lexer": "ipython3",
   "version": "3.9.13"
  }
 },
 "nbformat": 4,
 "nbformat_minor": 5
}
