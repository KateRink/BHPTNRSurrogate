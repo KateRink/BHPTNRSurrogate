{
 "cells": [
  {
   "cell_type": "code",
   "execution_count": 1,
   "id": "8b0dc8a5-0aba-455c-9569-f164ca5d931b",
   "metadata": {},
   "outputs": [
    {
     "name": "stdout",
     "output_type": "stream",
     "text": [
      "cannot import LAL\n",
      "SURROGATE LOADED\n",
      "type(X_sur) =  <class 'list'>\n",
      "len(X_sur) =  2\n",
      "type(X_sur[0]) =  <class 'numpy.float64'>\n",
      "type(X_sur[1]) =  <class 'float'>\n",
      "WARNING : modes are NOT NR calibrated - waveforms only have 0PA contribution\n"
     ]
    }
   ],
   "source": [
    "# provide the path to the BHPTNRSurrogate directory\n",
    "PATH_TO_BHPTNRSur = \"/home/krink_umassd_edu/BHPTNRSurrogate\"\n",
    "import numpy as np\n",
    "import matplotlib.pyplot as plt\n",
    "import sys\n",
    "# add the path to the script directory\n",
    "sys.path.append(PATH_TO_BHPTNRSur+\"/surrogates\")\n",
    "sys.path.append(\"/home/krink_umassd_edu/anaconda3/lib/python3.9/site-packages\") # for gwtools\n",
    "import BHPTNRSur2dq1e3 as sur2d\n",
    "import BHPTNRSur1dq1e4 as sur1d"
   ]
  },
  {
   "cell_type": "code",
   "execution_count": 3,
   "id": "e417aec7-7ad4-47cf-9b1a-5e7442bfdb3e",
   "metadata": {},
   "outputs": [
    {
     "name": "stdout",
     "output_type": "stream",
     "text": [
      "type(X_sur) =  <class 'list'>\n",
      "len(X_sur) =  2\n",
      "type(X_sur[0]) =  <class 'numpy.float64'>\n",
      "type(X_sur[1]) =  <class 'float'>\n",
      "WARNING : modes are NOT NR calibrated - waveforms only have 0PA contribution\n"
     ]
    }
   ],
   "source": [
    "tsur2, hsur2 = sur2d.generate_surrogate(q=20.0, spin1=0.2, calibrated=False)"
   ]
  },
  {
   "cell_type": "code",
   "execution_count": 4,
   "id": "322c43e3-da6a-4d5d-80cd-335be37a719e",
   "metadata": {},
   "outputs": [
    {
     "name": "stdout",
     "output_type": "stream",
     "text": [
      "WARNING : modes are NOT NR calibrated - waveforms only have 0PA contribution\n"
     ]
    }
   ],
   "source": [
    "tsur1, hsur1 = sur1d.generate_surrogate(q=20.0, calibrated=False)"
   ]
  },
  {
   "cell_type": "code",
   "execution_count": null,
   "id": "4a94b4f4-6d79-4c34-b1bb-78c5ff0eecaf",
   "metadata": {},
   "outputs": [],
   "source": []
  }
 ],
 "metadata": {
  "kernelspec": {
   "display_name": "Python (anaconda3)",
   "language": "python",
   "name": "conda-env-anaconda3-py"
  },
  "language_info": {
   "codemirror_mode": {
    "name": "ipython",
    "version": 3
   },
   "file_extension": ".py",
   "mimetype": "text/x-python",
   "name": "python",
   "nbconvert_exporter": "python",
   "pygments_lexer": "ipython3",
   "version": "3.9.13"
  }
 },
 "nbformat": 4,
 "nbformat_minor": 5
}
