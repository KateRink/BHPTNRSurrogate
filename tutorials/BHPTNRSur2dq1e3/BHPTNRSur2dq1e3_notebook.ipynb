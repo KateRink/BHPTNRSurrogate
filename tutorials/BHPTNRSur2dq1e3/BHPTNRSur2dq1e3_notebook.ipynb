{
 "cells": [
  {
   "cell_type": "markdown",
   "id": "86000138",
   "metadata": {},
   "source": [
    "# Example Notebook for BHPTNRSur2dq1e3\n",
    "\n",
    "This notebook shows how to use the BHPTNRSur2dq1e3 model. This model was trained on point-particle black hole perturbation theory (BHPT) waveforms and calibrated to NR in the comparable mass ratio regime. \n",
    "\n",
    "For more information please see [here](https://bhptoolkit.org/BHPTNRSurrogate/).\n"
   ]
  },
  {
   "cell_type": "markdown",
   "id": "2ece8e01",
   "metadata": {},
   "source": [
    "### Setup\n",
    " \n",
    "1. You should now have the programs git and Jupyter as well as the Python packages scipy and h5py\n",
    "2. clone the BHPTSurrogate repo\n",
    "\n",
    "```shell\n",
    ">>> git clone https://github.com/BlackHolePerturbationToolkit/BHPTNRSurrogate.git\n",
    "```\n",
    "\n",
    "3. Download the h5 file using the following public link and move it to ```BHPTNRSurrogate/data/```\n",
    "\n",
    "```\n",
    "https://zenodo.org/record/7125742/BHPTNRSur1dq1e4.h5\n",
    "```\n",
    "\n",
    "Alternatively, the code will automatically do it for you."
   ]
  },
  {
   "cell_type": "code",
   "execution_count": 1,
   "id": "86cd4bb9",
   "metadata": {
    "tags": []
   },
   "outputs": [
    {
     "name": "stdout",
     "output_type": "stream",
     "text": [
      "SURROGATE LOADED\n",
      "type(X_sur) =  <class 'list'>\n",
      "len(X_sur) =  2\n",
      "type(X_sur[0]) =  <class 'numpy.float64'>\n",
      "type(X_sur[1]) =  <class 'float'>\n",
      "isinstance(X_bounds,(list)) =  True\n",
      "isinstance(X_bounds[0][0]) =  True\n",
      "isinstance(X_bounds[0][1]) =  True\n",
      "isinstance(X_bounds[1][0]) =  True\n",
      "isinstance(X_bounds[1][1]) =  True\n",
      "isinstance(X_sur[0]) =  True\n",
      "isinstance(X_sur[1]) =  True\n",
      "WARNING : modes are NOT NR calibrated - waveforms only have 0PA contribution\n"
     ]
    }
   ],
   "source": [
    "# provide the path to the BHPTNRSurrogate directory\n",
    "PATH_TO_BHPTNRSur = \"/home/krink_umassd_edu/BHPTNRSurrogate\"\n",
    "#PATH_TO_BHPTNRSur = \"/home/balzani57/Repo/GitRepos/Codes/tousif-bhptk/BHPTNRSurrogate/\"\n",
    "import numpy as np\n",
    "import matplotlib.pyplot as plt\n",
    "import sys\n",
    "# add the path to the script directory\n",
    "sys.path.append(PATH_TO_BHPTNRSur+\"/surrogates\")\n",
    "sys.path.append(\"/home/krink_umassd_edu/anaconda3/lib/python3.9/site-packages\") # for gwtools\n",
    "import BHPTNRSur2dq1e3 as bhptsur"
   ]
  },
  {
   "cell_type": "code",
   "execution_count": null,
   "id": "b488967b",
   "metadata": {
    "tags": []
   },
   "outputs": [],
   "source": [
    "# print out the documentation\n",
    "help(bhptsur.generate_surrogate)"
   ]
  },
  {
   "cell_type": "markdown",
   "id": "7409decd",
   "metadata": {},
   "source": [
    "### 1. Generate uncalibrated waveforms (only 0PA effect) in geometric units"
   ]
  },
  {
   "cell_type": "code",
   "execution_count": 2,
   "id": "b3d5d398",
   "metadata": {},
   "outputs": [
    {
     "name": "stdout",
     "output_type": "stream",
     "text": [
      "type(X_sur) =  <class 'list'>\n",
      "len(X_sur) =  2\n",
      "type(X_sur[0]) =  <class 'numpy.float64'>\n",
      "type(X_sur[1]) =  <class 'float'>\n",
      "isinstance(X_bounds,(list)) =  True\n",
      "isinstance(X_bounds[0][0]) =  True\n",
      "isinstance(X_bounds[0][1]) =  True\n",
      "isinstance(X_bounds[1][0]) =  True\n",
      "isinstance(X_bounds[1][1]) =  True\n",
      "isinstance(X_sur[0]) =  True\n",
      "isinstance(X_sur[1]) =  True\n",
      "WARNING : modes are NOT NR calibrated - waveforms only have 0PA contribution\n",
      "dict_keys([(2, 2), (2, 1), (3, 1), (3, 2), (3, 3), (4, 2), (4, 3), (4, 4)])\n"
     ]
    },
    {
     "ename": "TypeError",
     "evalue": "unhashable type: 'dict'",
     "output_type": "error",
     "traceback": [
      "\u001b[0;31m---------------------------------------------------------------------------\u001b[0m",
      "\u001b[0;31mTypeError\u001b[0m                                 Traceback (most recent call last)",
      "Input \u001b[0;32mIn [2]\u001b[0m, in \u001b[0;36m<cell line: 6>\u001b[0;34m()\u001b[0m\n\u001b[1;32m      3\u001b[0m \u001b[38;5;28mprint\u001b[39m(hsur\u001b[38;5;241m.\u001b[39mkeys())\n\u001b[1;32m      5\u001b[0m plt\u001b[38;5;241m.\u001b[39mfigure(figsize\u001b[38;5;241m=\u001b[39m(\u001b[38;5;241m20\u001b[39m,\u001b[38;5;241m4\u001b[39m))\n\u001b[0;32m----> 6\u001b[0m \u001b[43mplt\u001b[49m\u001b[38;5;241;43m.\u001b[39;49m\u001b[43mplot\u001b[49m\u001b[43m(\u001b[49m\u001b[43mtsur\u001b[49m\u001b[43m,\u001b[49m\u001b[43m \u001b[49m\u001b[43mnp\u001b[49m\u001b[38;5;241;43m.\u001b[39;49m\u001b[43mreal\u001b[49m\u001b[43m(\u001b[49m\u001b[43mhsur\u001b[49m\u001b[43m[\u001b[49m\u001b[43m(\u001b[49m\u001b[38;5;241;43m2\u001b[39;49m\u001b[43m,\u001b[49m\u001b[38;5;241;43m2\u001b[39;49m\u001b[43m)\u001b[49m\u001b[43m]\u001b[49m\u001b[43m)\u001b[49m\u001b[43m,\u001b[49m\u001b[43m \u001b[49m\u001b[38;5;124;43m'\u001b[39;49m\u001b[38;5;124;43m-\u001b[39;49m\u001b[38;5;124;43m'\u001b[39;49m\u001b[43m,\u001b[49m\u001b[43m \u001b[49m\u001b[43mlabel\u001b[49m\u001b[38;5;241;43m=\u001b[39;49m\u001b[38;5;124;43m'\u001b[39;49m\u001b[38;5;124;43m22\u001b[39;49m\u001b[38;5;124;43m'\u001b[39;49m\u001b[43m)\u001b[49m\n\u001b[1;32m      7\u001b[0m plt\u001b[38;5;241m.\u001b[39mplot(tsur, np\u001b[38;5;241m.\u001b[39mreal(hsur[(\u001b[38;5;241m3\u001b[39m,\u001b[38;5;241m3\u001b[39m)]), \u001b[38;5;124m'\u001b[39m\u001b[38;5;124m-\u001b[39m\u001b[38;5;124m'\u001b[39m, label\u001b[38;5;241m=\u001b[39m\u001b[38;5;124m'\u001b[39m\u001b[38;5;124m33\u001b[39m\u001b[38;5;124m'\u001b[39m)\n\u001b[1;32m      8\u001b[0m plt\u001b[38;5;241m.\u001b[39mxlim(\u001b[38;5;241m-\u001b[39m\u001b[38;5;241m1000\u001b[39m,\u001b[38;5;241m115\u001b[39m)\n",
      "File \u001b[0;32m~/anaconda3/envs/sur_env/lib/python3.8/site-packages/matplotlib/pyplot.py:2769\u001b[0m, in \u001b[0;36mplot\u001b[0;34m(scalex, scaley, data, *args, **kwargs)\u001b[0m\n\u001b[1;32m   2767\u001b[0m \u001b[38;5;129m@_copy_docstring_and_deprecators\u001b[39m(Axes\u001b[38;5;241m.\u001b[39mplot)\n\u001b[1;32m   2768\u001b[0m \u001b[38;5;28;01mdef\u001b[39;00m \u001b[38;5;21mplot\u001b[39m(\u001b[38;5;241m*\u001b[39margs, scalex\u001b[38;5;241m=\u001b[39m\u001b[38;5;28;01mTrue\u001b[39;00m, scaley\u001b[38;5;241m=\u001b[39m\u001b[38;5;28;01mTrue\u001b[39;00m, data\u001b[38;5;241m=\u001b[39m\u001b[38;5;28;01mNone\u001b[39;00m, \u001b[38;5;241m*\u001b[39m\u001b[38;5;241m*\u001b[39mkwargs):\n\u001b[0;32m-> 2769\u001b[0m     \u001b[38;5;28;01mreturn\u001b[39;00m \u001b[43mgca\u001b[49m\u001b[43m(\u001b[49m\u001b[43m)\u001b[49m\u001b[38;5;241;43m.\u001b[39;49m\u001b[43mplot\u001b[49m\u001b[43m(\u001b[49m\n\u001b[1;32m   2770\u001b[0m \u001b[43m        \u001b[49m\u001b[38;5;241;43m*\u001b[39;49m\u001b[43margs\u001b[49m\u001b[43m,\u001b[49m\u001b[43m \u001b[49m\u001b[43mscalex\u001b[49m\u001b[38;5;241;43m=\u001b[39;49m\u001b[43mscalex\u001b[49m\u001b[43m,\u001b[49m\u001b[43m \u001b[49m\u001b[43mscaley\u001b[49m\u001b[38;5;241;43m=\u001b[39;49m\u001b[43mscaley\u001b[49m\u001b[43m,\u001b[49m\n\u001b[1;32m   2771\u001b[0m \u001b[43m        \u001b[49m\u001b[38;5;241;43m*\u001b[39;49m\u001b[38;5;241;43m*\u001b[39;49m\u001b[43m(\u001b[49m\u001b[43m{\u001b[49m\u001b[38;5;124;43m\"\u001b[39;49m\u001b[38;5;124;43mdata\u001b[39;49m\u001b[38;5;124;43m\"\u001b[39;49m\u001b[43m:\u001b[49m\u001b[43m \u001b[49m\u001b[43mdata\u001b[49m\u001b[43m}\u001b[49m\u001b[43m \u001b[49m\u001b[38;5;28;43;01mif\u001b[39;49;00m\u001b[43m \u001b[49m\u001b[43mdata\u001b[49m\u001b[43m \u001b[49m\u001b[38;5;129;43;01mis\u001b[39;49;00m\u001b[43m \u001b[49m\u001b[38;5;129;43;01mnot\u001b[39;49;00m\u001b[43m \u001b[49m\u001b[38;5;28;43;01mNone\u001b[39;49;00m\u001b[43m \u001b[49m\u001b[38;5;28;43;01melse\u001b[39;49;00m\u001b[43m \u001b[49m\u001b[43m{\u001b[49m\u001b[43m}\u001b[49m\u001b[43m)\u001b[49m\u001b[43m,\u001b[49m\u001b[43m \u001b[49m\u001b[38;5;241;43m*\u001b[39;49m\u001b[38;5;241;43m*\u001b[39;49m\u001b[43mkwargs\u001b[49m\u001b[43m)\u001b[49m\n",
      "File \u001b[0;32m~/anaconda3/envs/sur_env/lib/python3.8/site-packages/matplotlib/axes/_axes.py:1632\u001b[0m, in \u001b[0;36mAxes.plot\u001b[0;34m(self, scalex, scaley, data, *args, **kwargs)\u001b[0m\n\u001b[1;32m   1390\u001b[0m \u001b[38;5;124;03m\"\"\"\u001b[39;00m\n\u001b[1;32m   1391\u001b[0m \u001b[38;5;124;03mPlot y versus x as lines and/or markers.\u001b[39;00m\n\u001b[1;32m   1392\u001b[0m \n\u001b[0;32m   (...)\u001b[0m\n\u001b[1;32m   1629\u001b[0m \u001b[38;5;124;03m(``'green'``) or hex strings (``'#008000'``).\u001b[39;00m\n\u001b[1;32m   1630\u001b[0m \u001b[38;5;124;03m\"\"\"\u001b[39;00m\n\u001b[1;32m   1631\u001b[0m kwargs \u001b[38;5;241m=\u001b[39m cbook\u001b[38;5;241m.\u001b[39mnormalize_kwargs(kwargs, mlines\u001b[38;5;241m.\u001b[39mLine2D)\n\u001b[0;32m-> 1632\u001b[0m lines \u001b[38;5;241m=\u001b[39m [\u001b[38;5;241m*\u001b[39m\u001b[38;5;28mself\u001b[39m\u001b[38;5;241m.\u001b[39m_get_lines(\u001b[38;5;241m*\u001b[39margs, data\u001b[38;5;241m=\u001b[39mdata, \u001b[38;5;241m*\u001b[39m\u001b[38;5;241m*\u001b[39mkwargs)]\n\u001b[1;32m   1633\u001b[0m \u001b[38;5;28;01mfor\u001b[39;00m line \u001b[38;5;129;01min\u001b[39;00m lines:\n\u001b[1;32m   1634\u001b[0m     \u001b[38;5;28mself\u001b[39m\u001b[38;5;241m.\u001b[39madd_line(line)\n",
      "File \u001b[0;32m~/anaconda3/envs/sur_env/lib/python3.8/site-packages/matplotlib/axes/_base.py:312\u001b[0m, in \u001b[0;36m_process_plot_var_args.__call__\u001b[0;34m(self, data, *args, **kwargs)\u001b[0m\n\u001b[1;32m    310\u001b[0m     this \u001b[38;5;241m+\u001b[39m\u001b[38;5;241m=\u001b[39m args[\u001b[38;5;241m0\u001b[39m],\n\u001b[1;32m    311\u001b[0m     args \u001b[38;5;241m=\u001b[39m args[\u001b[38;5;241m1\u001b[39m:]\n\u001b[0;32m--> 312\u001b[0m \u001b[38;5;28;01myield from\u001b[39;00m \u001b[38;5;28;43mself\u001b[39;49m\u001b[38;5;241;43m.\u001b[39;49m\u001b[43m_plot_args\u001b[49m\u001b[43m(\u001b[49m\u001b[43mthis\u001b[49m\u001b[43m,\u001b[49m\u001b[43m \u001b[49m\u001b[43mkwargs\u001b[49m\u001b[43m)\u001b[49m\n",
      "File \u001b[0;32m~/anaconda3/envs/sur_env/lib/python3.8/site-packages/matplotlib/axes/_base.py:493\u001b[0m, in \u001b[0;36m_process_plot_var_args._plot_args\u001b[0;34m(self, tup, kwargs, return_kwargs)\u001b[0m\n\u001b[1;32m    490\u001b[0m     x, y \u001b[38;5;241m=\u001b[39m index_of(xy[\u001b[38;5;241m-\u001b[39m\u001b[38;5;241m1\u001b[39m])\n\u001b[1;32m    492\u001b[0m \u001b[38;5;28;01mif\u001b[39;00m \u001b[38;5;28mself\u001b[39m\u001b[38;5;241m.\u001b[39maxes\u001b[38;5;241m.\u001b[39mxaxis \u001b[38;5;129;01mis\u001b[39;00m \u001b[38;5;129;01mnot\u001b[39;00m \u001b[38;5;28;01mNone\u001b[39;00m:\n\u001b[0;32m--> 493\u001b[0m     \u001b[38;5;28;43mself\u001b[39;49m\u001b[38;5;241;43m.\u001b[39;49m\u001b[43maxes\u001b[49m\u001b[38;5;241;43m.\u001b[39;49m\u001b[43mxaxis\u001b[49m\u001b[38;5;241;43m.\u001b[39;49m\u001b[43mupdate_units\u001b[49m\u001b[43m(\u001b[49m\u001b[43mx\u001b[49m\u001b[43m)\u001b[49m\n\u001b[1;32m    494\u001b[0m \u001b[38;5;28;01mif\u001b[39;00m \u001b[38;5;28mself\u001b[39m\u001b[38;5;241m.\u001b[39maxes\u001b[38;5;241m.\u001b[39myaxis \u001b[38;5;129;01mis\u001b[39;00m \u001b[38;5;129;01mnot\u001b[39;00m \u001b[38;5;28;01mNone\u001b[39;00m:\n\u001b[1;32m    495\u001b[0m     \u001b[38;5;28mself\u001b[39m\u001b[38;5;241m.\u001b[39maxes\u001b[38;5;241m.\u001b[39myaxis\u001b[38;5;241m.\u001b[39mupdate_units(y)\n",
      "File \u001b[0;32m~/anaconda3/envs/sur_env/lib/python3.8/site-packages/matplotlib/axis.py:1449\u001b[0m, in \u001b[0;36mAxis.update_units\u001b[0;34m(self, data)\u001b[0m\n\u001b[1;32m   1447\u001b[0m neednew \u001b[38;5;241m=\u001b[39m \u001b[38;5;28mself\u001b[39m\u001b[38;5;241m.\u001b[39mconverter \u001b[38;5;241m!=\u001b[39m converter\n\u001b[1;32m   1448\u001b[0m \u001b[38;5;28mself\u001b[39m\u001b[38;5;241m.\u001b[39mconverter \u001b[38;5;241m=\u001b[39m converter\n\u001b[0;32m-> 1449\u001b[0m default \u001b[38;5;241m=\u001b[39m \u001b[38;5;28;43mself\u001b[39;49m\u001b[38;5;241;43m.\u001b[39;49m\u001b[43mconverter\u001b[49m\u001b[38;5;241;43m.\u001b[39;49m\u001b[43mdefault_units\u001b[49m\u001b[43m(\u001b[49m\u001b[43mdata\u001b[49m\u001b[43m,\u001b[49m\u001b[43m \u001b[49m\u001b[38;5;28;43mself\u001b[39;49m\u001b[43m)\u001b[49m\n\u001b[1;32m   1450\u001b[0m \u001b[38;5;28;01mif\u001b[39;00m default \u001b[38;5;129;01mis\u001b[39;00m \u001b[38;5;129;01mnot\u001b[39;00m \u001b[38;5;28;01mNone\u001b[39;00m \u001b[38;5;129;01mand\u001b[39;00m \u001b[38;5;28mself\u001b[39m\u001b[38;5;241m.\u001b[39munits \u001b[38;5;129;01mis\u001b[39;00m \u001b[38;5;28;01mNone\u001b[39;00m:\n\u001b[1;32m   1451\u001b[0m     \u001b[38;5;28mself\u001b[39m\u001b[38;5;241m.\u001b[39mset_units(default)\n",
      "File \u001b[0;32m~/anaconda3/envs/sur_env/lib/python3.8/site-packages/matplotlib/category.py:116\u001b[0m, in \u001b[0;36mStrCategoryConverter.default_units\u001b[0;34m(data, axis)\u001b[0m\n\u001b[1;32m    114\u001b[0m \u001b[38;5;66;03m# the conversion call stack is default_units -> axis_info -> convert\u001b[39;00m\n\u001b[1;32m    115\u001b[0m \u001b[38;5;28;01mif\u001b[39;00m axis\u001b[38;5;241m.\u001b[39munits \u001b[38;5;129;01mis\u001b[39;00m \u001b[38;5;28;01mNone\u001b[39;00m:\n\u001b[0;32m--> 116\u001b[0m     axis\u001b[38;5;241m.\u001b[39mset_units(\u001b[43mUnitData\u001b[49m\u001b[43m(\u001b[49m\u001b[43mdata\u001b[49m\u001b[43m)\u001b[49m)\n\u001b[1;32m    117\u001b[0m \u001b[38;5;28;01melse\u001b[39;00m:\n\u001b[1;32m    118\u001b[0m     axis\u001b[38;5;241m.\u001b[39munits\u001b[38;5;241m.\u001b[39mupdate(data)\n",
      "File \u001b[0;32m~/anaconda3/envs/sur_env/lib/python3.8/site-packages/matplotlib/category.py:192\u001b[0m, in \u001b[0;36mUnitData.__init__\u001b[0;34m(self, data)\u001b[0m\n\u001b[1;32m    190\u001b[0m \u001b[38;5;28mself\u001b[39m\u001b[38;5;241m.\u001b[39m_counter \u001b[38;5;241m=\u001b[39m itertools\u001b[38;5;241m.\u001b[39mcount()\n\u001b[1;32m    191\u001b[0m \u001b[38;5;28;01mif\u001b[39;00m data \u001b[38;5;129;01mis\u001b[39;00m \u001b[38;5;129;01mnot\u001b[39;00m \u001b[38;5;28;01mNone\u001b[39;00m:\n\u001b[0;32m--> 192\u001b[0m     \u001b[38;5;28;43mself\u001b[39;49m\u001b[38;5;241;43m.\u001b[39;49m\u001b[43mupdate\u001b[49m\u001b[43m(\u001b[49m\u001b[43mdata\u001b[49m\u001b[43m)\u001b[49m\n",
      "File \u001b[0;32m~/anaconda3/envs/sur_env/lib/python3.8/site-packages/matplotlib/category.py:225\u001b[0m, in \u001b[0;36mUnitData.update\u001b[0;34m(self, data)\u001b[0m\n\u001b[1;32m    223\u001b[0m \u001b[38;5;66;03m# check if convertible to number:\u001b[39;00m\n\u001b[1;32m    224\u001b[0m convertible \u001b[38;5;241m=\u001b[39m \u001b[38;5;28;01mTrue\u001b[39;00m\n\u001b[0;32m--> 225\u001b[0m \u001b[38;5;28;01mfor\u001b[39;00m val \u001b[38;5;129;01min\u001b[39;00m \u001b[43mOrderedDict\u001b[49m\u001b[38;5;241;43m.\u001b[39;49m\u001b[43mfromkeys\u001b[49m\u001b[43m(\u001b[49m\u001b[43mdata\u001b[49m\u001b[43m)\u001b[49m:\n\u001b[1;32m    226\u001b[0m     \u001b[38;5;66;03m# OrderedDict just iterates over unique values in data.\u001b[39;00m\n\u001b[1;32m    227\u001b[0m     _api\u001b[38;5;241m.\u001b[39mcheck_isinstance((\u001b[38;5;28mstr\u001b[39m, \u001b[38;5;28mbytes\u001b[39m), value\u001b[38;5;241m=\u001b[39mval)\n\u001b[1;32m    228\u001b[0m     \u001b[38;5;28;01mif\u001b[39;00m convertible:\n\u001b[1;32m    229\u001b[0m         \u001b[38;5;66;03m# this will only be called so long as convertible is True.\u001b[39;00m\n",
      "\u001b[0;31mTypeError\u001b[0m: unhashable type: 'dict'"
     ]
    },
    {
     "data": {
      "image/png": "[encoded data removed]",
      "text/plain": [
       "<Figure size 1440x288 with 1 Axes>"
      ]
     },
     "metadata": {
      "needs_background": "light"
     },
     "output_type": "display_data"
    }
   ],
   "source": [
    "tsur, hsur = bhptsur.generate_surrogate(q=20.0, spin1=0.2, calibrated=False)\n",
    "\n",
    "print(hsur.keys())\n",
    "\n",
    "plt.figure(figsize=(20,4))\n",
    "plt.plot(tsur, np.real(hsur[(2,2)]), '-', label='22')\n",
    "plt.plot(tsur, np.real(hsur[(3,3)]), '-', label='33')\n",
    "plt.xlim(-1000,115)\n",
    "plt.xlabel('time [M]', fontsize=15)\n",
    "plt.ylabel('rh/M', fontsize=15)\n",
    "plt.xticks(fontsize=13)\n",
    "plt.yticks(fontsize=13)\n",
    "plt.legend(fontsize=12)\n",
    "plt.show()"
   ]
  },
  {
   "cell_type": "code",
   "execution_count": 10,
   "id": "69dc3132-449c-47c3-8b83-7ab5f08e65f9",
   "metadata": {},
   "outputs": [
    {
     "name": "stdout",
     "output_type": "stream",
     "text": [
      "(0.22178867800227559+9.423562133750597e-12j)\n",
      "{'negative_spin': array([-1.312464e+04, -1.312452e+04, -1.312440e+04, ..., -2.400000e-01,\n",
      "       -1.200000e-01,  0.000000e+00]), 'positive_spin': array([-13002.240002, -13002.120002, -13002.000002, ...,    122.16    ,\n",
      "          122.28    ,    122.4     ])}\n"
     ]
    }
   ],
   "source": [
    "# DEBUGGING\n",
    "print(hsur[(2,2)])\n",
    "print(tsur)"
   ]
  },
  {
   "cell_type": "code",
   "execution_count": 11,
   "id": "06996a41-1e93-4bd5-b921-e8d88568dce9",
   "metadata": {},
   "outputs": [
    {
     "data": {
      "text/plain": [
       "array({'negative_spin': array([-1.312464e+04, -1.312452e+04, -1.312440e+04, ..., -2.400000e-01,\n",
       "       -1.200000e-01,  0.000000e+00]), 'positive_spin': array([-13002.240002, -13002.120002, -13002.000002, ...,    122.16    ,\n",
       "          122.28    ,    122.4     ])}, dtype=object)"
      ]
     },
     "execution_count": 11,
     "metadata": {},
     "output_type": "execute_result"
    }
   ],
   "source": [
    "#DEBUGGING\n",
    "tsur"
   ]
  },
  {
   "cell_type": "markdown",
   "id": "d8542a9c",
   "metadata": {},
   "source": [
    "### 2. Generate NR-calibrated waveforms in geometric units"
   ]
  },
  {
   "cell_type": "code",
   "execution_count": null,
   "id": "002cad59",
   "metadata": {},
   "outputs": [],
   "source": [
    "tsur, hsur = bhptsur.generate_surrogate(q=20)\n",
    "\n",
    "print(hsur.keys())\n",
    "\n",
    "plt.figure(figsize=(20,4))\n",
    "plt.plot(tsur, np.real(hsur[(2,2)]), '-', label='22')\n",
    "plt.plot(tsur, np.real(hsur[(3,3)]), '-', label='33')\n",
    "plt.xlim(-1000,115)\n",
    "plt.xlabel('time [M]', fontsize=15)\n",
    "plt.ylabel('rh/M', fontsize=15)\n",
    "plt.xticks(fontsize=13)\n",
    "plt.yticks(fontsize=13)\n",
    "plt.legend(fontsize=12)\n",
    "plt.show()"
   ]
  },
  {
   "cell_type": "markdown",
   "id": "9c071583",
   "metadata": {},
   "source": [
    "### 3. Generate (NR calibrated) waveform modes in Physical (SI) units"
   ]
  },
  {
   "cell_type": "code",
   "execution_count": null,
   "id": "5873dc14",
   "metadata": {},
   "outputs": [],
   "source": [
    "tsur, hsur = bhptsur.generate_surrogate(q=100, M_tot=60, dist_mpc=100)\n",
    "\n",
    "print(hsur.keys())\n",
    "\n",
    "plt.figure(figsize=(20,4))\n",
    "plt.plot(tsur, np.real(hsur[(2,2)]), '-', label='22')\n",
    "plt.plot(tsur, np.real(hsur[(3,3)]), '-', label='33')\n",
    "plt.xlabel('time [seconds]', fontsize=15)\n",
    "plt.ylabel('rh/M', fontsize=15)\n",
    "plt.xticks(fontsize=13)\n",
    "plt.yticks(fontsize=13)\n",
    "plt.legend(fontsize=12)\n",
    "plt.show()"
   ]
  },
  {
   "cell_type": "markdown",
   "id": "dfaf0e21",
   "metadata": {},
   "source": [
    "### 4. Generate (NR calibrated) waveform modes in Physical (SI) units evaluated at point on the sphere"
   ]
  },
  {
   "cell_type": "code",
   "execution_count": null,
   "id": "5d5d7751",
   "metadata": {},
   "outputs": [],
   "source": [
    "tsur, hsur = bhptsur.generate_surrogate(q=15, M_tot=60, dist_mpc=100, orb_phase=np.pi/3, inclination=np.pi/4)\n",
    "\n",
    "print(hsur.keys())\n",
    "\n",
    "plt.figure(figsize=(20,4))\n",
    "plt.plot(tsur, np.real(hsur[(2,2)]), '-', label='22')\n",
    "plt.plot(tsur, np.real(hsur[(3,3)]), '-', label='33')\n",
    "plt.xlabel('time [M]', fontsize=15)\n",
    "plt.ylabel('rh/M', fontsize=15)\n",
    "plt.xticks(fontsize=13)\n",
    "plt.yticks(fontsize=13)\n",
    "plt.legend(fontsize=12)\n",
    "plt.show()"
   ]
  },
  {
   "cell_type": "markdown",
   "id": "26bdbf72",
   "metadata": {},
   "source": [
    "#### 4.1. Check for phase=0, inclination=0, 33 mode is zero"
   ]
  },
  {
   "cell_type": "code",
   "execution_count": null,
   "id": "48175e44",
   "metadata": {},
   "outputs": [],
   "source": [
    "tsur, hsur = bhptsur.generate_surrogate(q=8, M_tot=60, dist_mpc=100, orb_phase=0.0, inclination=0.0)\n",
    "\n",
    "print(hsur.keys())\n",
    "\n",
    "plt.figure(figsize=(20,4))\n",
    "plt.plot(tsur, np.real(hsur[(2,2)]), '-', label='22')\n",
    "plt.plot(tsur, np.real(hsur[(3,3)]), '-', label='33')\n",
    "plt.xlabel('time [M]', fontsize=15)\n",
    "plt.ylabel('rh/M', fontsize=15)\n",
    "plt.xticks(fontsize=13)\n",
    "plt.yticks(fontsize=13)\n",
    "plt.legend(fontsize=12)\n",
    "plt.show()"
   ]
  },
  {
   "cell_type": "markdown",
   "id": "b3dd7a7a",
   "metadata": {},
   "source": [
    "### 5. Generate (NR calibrated) waveform in Physical (SI) units on a sphere for a given set of modes"
   ]
  },
  {
   "cell_type": "code",
   "execution_count": null,
   "id": "f43089ee",
   "metadata": {
    "scrolled": true
   },
   "outputs": [],
   "source": [
    "# Note : (2,2) mode should always be in the mode_list; otherwise it will throw errors\n",
    "modes = [(2,2),(3,3),(4,4),(5,5)]\n",
    "\n",
    "tsur, hsur = bhptsur.generate_surrogate(q=8, M_tot=60, dist_mpc=100, orb_phase=np.pi/3, inclination=np.pi/4)\n",
    "\n",
    "print(hsur.keys())\n",
    "\n",
    "plt.figure(figsize=(20,4))\n",
    "plt.plot(tsur, np.real(hsur[(2,2)]), '-', label='22')\n",
    "plt.plot(tsur, np.real(hsur[(3,3)]), '-', label='33')\n",
    "plt.xlabel('time [M]', fontsize=15)\n",
    "plt.ylabel('rh/M', fontsize=15)\n",
    "plt.xticks(fontsize=13)\n",
    "plt.yticks(fontsize=13)\n",
    "plt.legend(fontsize=12)\n",
    "plt.show()"
   ]
  },
  {
   "cell_type": "markdown",
   "id": "d1677b0a",
   "metadata": {},
   "source": [
    "### 6. Generate (NR calibrated) waveform in Physical (SI) units on a sphere for possible modes upto l=3"
   ]
  },
  {
   "cell_type": "code",
   "execution_count": null,
   "id": "31ab2d52",
   "metadata": {},
   "outputs": [],
   "source": [
    "lmax = 3 # Note default value of lmax is 5; because we have NR calibrated modes up to l=5\n",
    "tsur, hsur = bhptsur.generate_surrogate(q=8, M_tot=60, dist_mpc=100, orb_phase=np.pi/3, inclination=np.pi/4, lmax=3)\n",
    "\n",
    "print(hsur.keys())\n",
    "\n",
    "plt.figure(figsize=(20,4))\n",
    "plt.plot(tsur, np.real(hsur[(2,2)]), '-', label='22')\n",
    "plt.plot(tsur, np.real(hsur[(3,3)]), '-', label='33')\n",
    "plt.xlabel('time [M]', fontsize=15)\n",
    "plt.ylabel('rh/M', fontsize=15)\n",
    "plt.xticks(fontsize=13)\n",
    "plt.yticks(fontsize=13)\n",
    "plt.legend(fontsize=12)\n",
    "plt.show()"
   ]
  },
  {
   "cell_type": "markdown",
   "id": "45c76da1",
   "metadata": {},
   "source": [
    "### 7. Generate mode-summed (NR calibrated) waveform in Physical (SI) units on a sphere for possible modes upto l=5"
   ]
  },
  {
   "cell_type": "code",
   "execution_count": null,
   "id": "68f5c813",
   "metadata": {},
   "outputs": [],
   "source": [
    "lmax = 3 # Note default value of lmax is 5; because we have NR calibrated modes up to l=5\n",
    "tsur, hsur = bhptsur.generate_surrogate(q=18, M_tot=60, dist_mpc=100, orb_phase=np.pi/3, inclination=np.pi/4, lmax=3, mode_sum=True)\n",
    "\n",
    "\n",
    "plt.figure(figsize=(20,4))\n",
    "plt.plot(tsur, np.real(hsur), '-', label='real')\n",
    "plt.plot(tsur, np.imag(hsur), '-', label='imag')\n",
    "plt.xlabel('time [M]', fontsize=15)\n",
    "plt.ylabel('rh/M', fontsize=15)\n",
    "plt.xticks(fontsize=13)\n",
    "plt.yticks(fontsize=13)\n",
    "plt.legend(fontsize=12)\n",
    "plt.show()"
   ]
  },
  {
   "cell_type": "code",
   "execution_count": null,
   "id": "d3ba29f8",
   "metadata": {},
   "outputs": [],
   "source": []
  }
 ],
 "metadata": {
  "kernelspec": {
   "display_name": "Python (anaconda3-sur_env)",
   "language": "python",
   "name": "conda-env-anaconda3-sur_env-py"
  },
  "language_info": {
   "codemirror_mode": {
    "name": "ipython",
    "version": 3
   },
   "file_extension": ".py",
   "mimetype": "text/x-python",
   "name": "python",
   "nbconvert_exporter": "python",
   "pygments_lexer": "ipython3",
   "version": "3.8.13"
  }
 },
 "nbformat": 4,
 "nbformat_minor": 5
}
